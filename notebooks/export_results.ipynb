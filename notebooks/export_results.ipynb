{
 "cells": [
  {
   "metadata": {},
   "cell_type": "markdown",
   "source": "### Load from DB",
   "id": "14c90f14544872f8"
  },
  {
   "cell_type": "code",
   "id": "initial_id",
   "metadata": {
    "collapsed": true,
    "ExecuteTime": {
     "end_time": "2025-02-06T02:43:40.628246Z",
     "start_time": "2025-02-06T02:43:40.621555Z"
    }
   },
   "source": [
    "import pandas as pd\n",
    "from pathlib import Path\n",
    "\n",
    "from src.utils import load_yaml\n",
    "from src.database import get_rows\n",
    "\n",
    "base_path = Path(\"../\")\n",
    "config = load_yaml(base_path / \"config.yaml\")\n",
    "data_path = base_path / config[\"data_dir\"]\n",
    "db_path = data_path / config[\"results_file\"]"
   ],
   "outputs": [],
   "execution_count": 17
  },
  {
   "metadata": {
    "ExecuteTime": {
     "end_time": "2025-02-06T02:43:40.655504Z",
     "start_time": "2025-02-06T02:43:40.634940Z"
    }
   },
   "cell_type": "code",
   "source": [
    "df_covid_results_gpt_4o = get_rows(\n",
    "    db_path=db_path,\n",
    "    file_name=\"covid.csv\",\n",
    "    model=\"gpt-4o\"\n",
    ")\n",
    "df_covid_results_gpt_4o = pd.DataFrame(df_covid_results_gpt_4o)"
   ],
   "id": "b15af5d54fb6f2e1",
   "outputs": [],
   "execution_count": 18
  },
  {
   "metadata": {
    "ExecuteTime": {
     "end_time": "2025-02-06T02:43:40.685865Z",
     "start_time": "2025-02-06T02:43:40.667596Z"
    }
   },
   "cell_type": "code",
   "source": [
    "df_covid_results_sonnet_35 = get_rows(\n",
    "    db_path=db_path,\n",
    "    file_name=\"covid.csv\",\n",
    "    model=\"anthropic.claude-3-5-sonnet-20240620-v1:0\"\n",
    ")\n",
    "df_covid_results_sonnet_35 = pd.DataFrame(df_covid_results_sonnet_35)"
   ],
   "id": "6317b28843ad9ab2",
   "outputs": [],
   "execution_count": 19
  },
  {
   "metadata": {
    "ExecuteTime": {
     "end_time": "2025-02-06T02:43:40.716262Z",
     "start_time": "2025-02-06T02:43:40.696084Z"
    }
   },
   "cell_type": "code",
   "source": [
    "df_touche_results_gpt_4o = get_rows(\n",
    "    db_path=db_path,\n",
    "    file_name=\"touche.csv\",\n",
    "    model=\"gpt-4o\"\n",
    ")\n",
    "df_touche_results_gpt_4o = pd.DataFrame(df_touche_results_gpt_4o)"
   ],
   "id": "87e599d49ab44fc8",
   "outputs": [],
   "execution_count": 20
  },
  {
   "metadata": {
    "ExecuteTime": {
     "end_time": "2025-02-06T02:43:40.743871Z",
     "start_time": "2025-02-06T02:43:40.725943Z"
    }
   },
   "cell_type": "code",
   "source": [
    "df_touche_results_sonnet_35 = get_rows(\n",
    "    db_path=db_path,\n",
    "    file_name=\"touche.csv\",\n",
    "    model=\"anthropic.claude-3-5-sonnet-20240620-v1:0\"\n",
    ")\n",
    "df_touche_results_sonnet_35 = pd.DataFrame(df_touche_results_sonnet_35)"
   ],
   "id": "6a241055442fbaf",
   "outputs": [],
   "execution_count": 21
  },
  {
   "metadata": {
    "ExecuteTime": {
     "end_time": "2025-02-06T02:43:40.770921Z",
     "start_time": "2025-02-06T02:43:40.753337Z"
    }
   },
   "cell_type": "code",
   "source": [
    "df_covid_2_class_results_gpt_4o = get_rows(\n",
    "    db_path=db_path,\n",
    "    file_name=\"covid_2_class.csv\",\n",
    "    model=\"gpt-4o\"\n",
    ")\n",
    "df_covid_2_class_results_gpt_4o = pd.DataFrame(df_covid_2_class_results_gpt_4o)"
   ],
   "id": "a92730a98da72e6e",
   "outputs": [],
   "execution_count": 22
  },
  {
   "metadata": {
    "ExecuteTime": {
     "end_time": "2025-02-06T02:43:40.796445Z",
     "start_time": "2025-02-06T02:43:40.780988Z"
    }
   },
   "cell_type": "code",
   "source": [
    "df_covid_2_class_results_sonnet_35 = get_rows(\n",
    "    db_path=db_path,\n",
    "    file_name=\"covid_2_class.csv\",\n",
    "    model=\"anthropic.claude-3-5-sonnet-20240620-v1:0\"\n",
    ")\n",
    "df_covid_2_class_results_sonnet_35 = pd.DataFrame(df_covid_2_class_results_sonnet_35)"
   ],
   "id": "69e3d4403c6bc02a",
   "outputs": [],
   "execution_count": 23
  },
  {
   "metadata": {
    "ExecuteTime": {
     "end_time": "2025-02-06T02:43:40.821788Z",
     "start_time": "2025-02-06T02:43:40.805911Z"
    }
   },
   "cell_type": "code",
   "source": [
    "df_touche_2_class_results_gpt_4o = get_rows(\n",
    "    db_path=db_path,\n",
    "    file_name=\"touche_2_class.csv\",\n",
    "    model=\"gpt-4o\"\n",
    ")\n",
    "df_touche_2_class_results_gpt_4o = pd.DataFrame(df_touche_2_class_results_gpt_4o)"
   ],
   "id": "1237a49ef9561120",
   "outputs": [],
   "execution_count": 24
  },
  {
   "metadata": {
    "ExecuteTime": {
     "end_time": "2025-02-06T02:43:40.854383Z",
     "start_time": "2025-02-06T02:43:40.831455Z"
    }
   },
   "cell_type": "code",
   "source": [
    "df_touche_2_class_results_sonnet_35 = get_rows(\n",
    "    db_path=db_path,\n",
    "    file_name=\"touche_2_class.csv\",\n",
    "    model=\"anthropic.claude-3-5-sonnet-20240620-v1:0\"\n",
    ")\n",
    "df_touche_2_class_results_sonnet_35 = pd.DataFrame(df_touche_2_class_results_sonnet_35)"
   ],
   "id": "8ed649c3407035c3",
   "outputs": [],
   "execution_count": 25
  },
  {
   "metadata": {},
   "cell_type": "markdown",
   "source": "### Export",
   "id": "b8ee7f9fdc2f01af"
  },
  {
   "metadata": {
    "ExecuteTime": {
     "end_time": "2025-02-06T02:45:33.213706Z",
     "start_time": "2025-02-06T02:45:32.891207Z"
    }
   },
   "cell_type": "code",
   "source": [
    "df_covid_results_gpt_4o.to_csv(data_path / \"covid_gpt_4o.csv\", index=False)\n",
    "df_covid_results_sonnet_35.to_csv(data_path / \"covid_sonnet_35.csv\", index=False)\n",
    "df_touche_results_gpt_4o.to_csv(data_path / \"touche_gpt_4o.csv\", index=False)\n",
    "df_touche_results_sonnet_35.to_csv(data_path / \"touche_sonnet_35.csv\", index=False)\n",
    "\n",
    "df_covid_2_class_results_gpt_4o.to_csv(data_path / \"covid_2_class_gpt_4o.csv\", index=False)\n",
    "df_covid_2_class_results_sonnet_35.to_csv(data_path / \"covid_2_class_sonnet_35.csv\", index=False)\n",
    "df_touche_2_class_results_gpt_4o.to_csv(data_path / \"touche_2_class_gpt_4o.csv\", index=False)\n",
    "df_touche_2_class_results_sonnet_35.to_csv(data_path / \"touche_2_class_sonnet_35.csv\", index=False)"
   ],
   "id": "102e55074802f197",
   "outputs": [],
   "execution_count": 27
  }
 ],
 "metadata": {
  "kernelspec": {
   "display_name": "Python 3",
   "language": "python",
   "name": "python3"
  },
  "language_info": {
   "codemirror_mode": {
    "name": "ipython",
    "version": 2
   },
   "file_extension": ".py",
   "mimetype": "text/x-python",
   "name": "python",
   "nbconvert_exporter": "python",
   "pygments_lexer": "ipython2",
   "version": "2.7.6"
  }
 },
 "nbformat": 4,
 "nbformat_minor": 5
}
