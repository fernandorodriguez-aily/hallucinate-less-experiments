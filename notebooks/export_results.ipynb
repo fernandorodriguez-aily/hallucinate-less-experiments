{
 "cells": [
  {
   "metadata": {
    "ExecuteTime": {
     "end_time": "2025-02-12T13:56:37.205885Z",
     "start_time": "2025-02-12T13:56:37.199555Z"
    }
   },
   "cell_type": "code",
   "source": [
    "def calculate_accuracy_per_prompt(df, prompt_col, pred_col, gt_col):\n",
    "    \"\"\"\n",
    "    Calculate accuracy per prompt for a given DataFrame.\n",
    "\n",
    "    Parameters:\n",
    "    df (pd.DataFrame): The input DataFrame.\n",
    "    prompt_col (str): Column name for the prompt.\n",
    "    pred_col (str): Column name for the predicted relevance label.\n",
    "    gt_col (str): Column name for the ground truth relevance label.\n",
    "\n",
    "    Returns:\n",
    "    pd.DataFrame: A DataFrame with accuracy per prompt.\n",
    "    \"\"\"\n",
    "    df = df.copy()  # Avoid modifying the original DataFrame\n",
    "    df['correct'] = (df[pred_col] == df[gt_col]).astype(int)\n",
    "    accuracy_per_prompt = df.groupby(prompt_col)['correct'].mean().reset_index()\n",
    "    accuracy_per_prompt.rename(columns={'correct': 'accuracy'}, inplace=True)\n",
    "    return accuracy_per_prompt"
   ],
   "id": "91f7304edfd46fd8",
   "outputs": [],
   "execution_count": 42
  },
  {
   "metadata": {},
   "cell_type": "markdown",
   "source": "### Load from DB",
   "id": "14c90f14544872f8"
  },
  {
   "cell_type": "code",
   "id": "initial_id",
   "metadata": {
    "collapsed": true,
    "ExecuteTime": {
     "end_time": "2025-02-12T13:56:37.214576Z",
     "start_time": "2025-02-12T13:56:37.209977Z"
    }
   },
   "source": [
    "import pandas as pd\n",
    "from pathlib import Path\n",
    "\n",
    "from src.utils import load_yaml\n",
    "from src.database import get_rows\n",
    "\n",
    "base_path = Path(\"../\")\n",
    "config = load_yaml(base_path / \"config.yaml\")\n",
    "data_path = base_path / config[\"data_dir\"]\n",
    "db_path = data_path / config[\"results_file\"]"
   ],
   "outputs": [],
   "execution_count": 43
  },
  {
   "metadata": {},
   "cell_type": "markdown",
   "source": "### Old: Covid 3-class",
   "id": "596fbb000753d374"
  },
  {
   "metadata": {
    "ExecuteTime": {
     "end_time": "2025-02-12T13:56:37.230513Z",
     "start_time": "2025-02-12T13:56:37.227812Z"
    }
   },
   "cell_type": "code",
   "source": [
    "# df_covid_results_gpt_4o = pd.DataFrame(get_rows(\n",
    "#     db_path=db_path,\n",
    "#     file_name=\"covid.csv\",\n",
    "#     model=\"gpt-4o\"\n",
    "# ))\n",
    "#\n",
    "# df_covid_results_gpt_4o.to_csv(data_path / \"covid_gpt_4o.csv\", index=False)"
   ],
   "id": "b15af5d54fb6f2e1",
   "outputs": [],
   "execution_count": 44
  },
  {
   "metadata": {
    "ExecuteTime": {
     "end_time": "2025-02-12T13:56:37.242092Z",
     "start_time": "2025-02-12T13:56:37.240251Z"
    }
   },
   "cell_type": "code",
   "source": [
    "# df_covid_results_sonnet_35 = pd.DataFrame(get_rows(\n",
    "#     db_path=db_path,\n",
    "#     file_name=\"covid.csv\",\n",
    "#     model=\"anthropic.claude-3-5-sonnet-20240620-v1:0\"\n",
    "# ))\n",
    "#\n",
    "# df_covid_results_sonnet_35.to_csv(data_path / \"covid_sonnet_35.csv\", index=False)"
   ],
   "id": "6317b28843ad9ab2",
   "outputs": [],
   "execution_count": 45
  },
  {
   "metadata": {},
   "cell_type": "markdown",
   "source": "### Old: Touche 3-class",
   "id": "264cd37fc5307579"
  },
  {
   "metadata": {
    "ExecuteTime": {
     "end_time": "2025-02-12T13:56:37.252865Z",
     "start_time": "2025-02-12T13:56:37.251296Z"
    }
   },
   "cell_type": "code",
   "source": [
    "# df_touche_results_gpt_4o = pd.DataFrame(get_rows(\n",
    "#     db_path=db_path,\n",
    "#     file_name=\"touche.csv\",\n",
    "#     model=\"gpt-4o\"\n",
    "# ))\n",
    "#\n",
    "# df_touche_results_gpt_4o.to_csv(data_path / \"touche_gpt_4o.csv\", index=False)"
   ],
   "id": "87e599d49ab44fc8",
   "outputs": [],
   "execution_count": 46
  },
  {
   "metadata": {
    "ExecuteTime": {
     "end_time": "2025-02-12T13:56:37.262441Z",
     "start_time": "2025-02-12T13:56:37.260979Z"
    }
   },
   "cell_type": "code",
   "source": [
    "# df_touche_results_sonnet_35 = pd.DataFrame(get_rows(\n",
    "#     db_path=db_path,\n",
    "#     file_name=\"touche.csv\",\n",
    "#     model=\"anthropic.claude-3-5-sonnet-20240620-v1:0\"\n",
    "# ))\n",
    "#\n",
    "# df_touche_results_sonnet_35.to_csv(data_path / \"touche_sonnet_35.csv\", index=False)"
   ],
   "id": "6a241055442fbaf",
   "outputs": [],
   "execution_count": 47
  },
  {
   "metadata": {},
   "cell_type": "markdown",
   "source": "### Covid 2-class",
   "id": "cdc9809f8d235bfb"
  },
  {
   "metadata": {
    "ExecuteTime": {
     "end_time": "2025-02-12T13:56:37.352687Z",
     "start_time": "2025-02-12T13:56:37.271364Z"
    }
   },
   "cell_type": "code",
   "source": [
    "df_covid_2_class_results_gpt_4o = pd.DataFrame(get_rows(\n",
    "    db_path=db_path,\n",
    "    file_name=\"covid_2_class.csv\",\n",
    "    model=\"gpt-4o\",\n",
    "))\n",
    "\n",
    "df_covid_2_class_results_gpt_4o.to_csv(data_path / \"covid_2_class_gpt_4o.csv\", index=False)\n",
    "\n",
    "accuracy_df = calculate_accuracy_per_prompt(\n",
    "    df_covid_2_class_results_gpt_4o, 'prompt', 'relevance_label', 'relevance_label_gt'\n",
    ")\n",
    "\n",
    "print(accuracy_df)"
   ],
   "id": "a92730a98da72e6e",
   "outputs": [
    {
     "name": "stdout",
     "output_type": "stream",
     "text": [
      "                   prompt  accuracy\n",
      "0   classify_2_class_long  0.760959\n",
      "1  classify_2_class_short  0.741672\n"
     ]
    }
   ],
   "execution_count": 48
  },
  {
   "metadata": {
    "ExecuteTime": {
     "end_time": "2025-02-12T13:56:37.468898Z",
     "start_time": "2025-02-12T13:56:37.368596Z"
    }
   },
   "cell_type": "code",
   "source": [
    "df_covid_2_class_results_sonnet_35 = pd.DataFrame(get_rows(\n",
    "    db_path=db_path,\n",
    "    file_name=\"covid_2_class.csv\",\n",
    "    model=\"anthropic.claude-3-5-sonnet-20240620-v1:0\"\n",
    "))\n",
    "\n",
    "df_covid_2_class_results_sonnet_35.to_csv(data_path / \"covid_2_class_sonnet_35.csv\", index=False)\n",
    "\n",
    "accuracy_df = calculate_accuracy_per_prompt(\n",
    "    df_covid_2_class_results_sonnet_35, 'prompt', 'relevance_label', 'relevance_label_gt'\n",
    ")\n",
    "\n",
    "print(accuracy_df)"
   ],
   "id": "69e3d4403c6bc02a",
   "outputs": [
    {
     "name": "stdout",
     "output_type": "stream",
     "text": [
      "                   prompt  accuracy\n",
      "0   classify_2_class_long  0.791935\n",
      "1  classify_2_class_short  0.720631\n"
     ]
    }
   ],
   "execution_count": 49
  },
  {
   "metadata": {},
   "cell_type": "markdown",
   "source": "### Touche 2-class",
   "id": "55431287e17ebc21"
  },
  {
   "metadata": {
    "ExecuteTime": {
     "end_time": "2025-02-12T13:56:37.545909Z",
     "start_time": "2025-02-12T13:56:37.472034Z"
    }
   },
   "cell_type": "code",
   "source": [
    "df_touche_2_class_results_gpt_4o = pd.DataFrame(get_rows(\n",
    "    db_path=db_path,\n",
    "    file_name=\"touche_2_class.csv\",\n",
    "    model=\"gpt-4o\"\n",
    "))\n",
    "\n",
    "df_touche_2_class_results_gpt_4o.to_csv(data_path / \"touche_2_class_gpt_4o.csv\", index=False)\n",
    "\n",
    "accuracy_df = calculate_accuracy_per_prompt(\n",
    "    df_touche_2_class_results_gpt_4o, 'prompt', 'relevance_label', 'relevance_label_gt'\n",
    ")\n",
    "\n",
    "print(accuracy_df)"
   ],
   "id": "1237a49ef9561120",
   "outputs": [
    {
     "name": "stdout",
     "output_type": "stream",
     "text": [
      "                   prompt  accuracy\n",
      "0   classify_2_class_long  0.849142\n",
      "1  classify_2_class_short  0.822945\n"
     ]
    }
   ],
   "execution_count": 50
  },
  {
   "metadata": {
    "ExecuteTime": {
     "end_time": "2025-02-12T13:56:37.658476Z",
     "start_time": "2025-02-12T13:56:37.560390Z"
    }
   },
   "cell_type": "code",
   "source": [
    "df_touche_2_class_results_sonnet_35 = pd.DataFrame(get_rows(\n",
    "    db_path=db_path,\n",
    "    file_name=\"touche_2_class.csv\",\n",
    "    model=\"anthropic.claude-3-5-sonnet-20240620-v1:0\"\n",
    "))\n",
    "\n",
    "df_touche_2_class_results_sonnet_35.to_csv(data_path / \"touche_2_class_sonnet_35.csv\", index=False)\n",
    "\n",
    "accuracy_df = calculate_accuracy_per_prompt(\n",
    "    df_touche_2_class_results_sonnet_35, 'prompt', 'relevance_label', 'relevance_label_gt'\n",
    ")\n",
    "\n",
    "print(accuracy_df)"
   ],
   "id": "8ed649c3407035c3",
   "outputs": [
    {
     "name": "stdout",
     "output_type": "stream",
     "text": [
      "                   prompt  accuracy\n",
      "0   classify_2_class_long  0.854110\n",
      "1  classify_2_class_short  0.842367\n"
     ]
    }
   ],
   "execution_count": 51
  }
 ],
 "metadata": {
  "kernelspec": {
   "display_name": "Python 3",
   "language": "python",
   "name": "python3"
  },
  "language_info": {
   "codemirror_mode": {
    "name": "ipython",
    "version": 2
   },
   "file_extension": ".py",
   "mimetype": "text/x-python",
   "name": "python",
   "nbconvert_exporter": "python",
   "pygments_lexer": "ipython2",
   "version": "2.7.6"
  }
 },
 "nbformat": 4,
 "nbformat_minor": 5
}
