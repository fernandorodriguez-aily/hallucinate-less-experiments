{
 "cells": [
  {
   "metadata": {},
   "cell_type": "markdown",
   "source": "### Load from DB",
   "id": "14c90f14544872f8"
  },
  {
   "cell_type": "code",
   "id": "initial_id",
   "metadata": {
    "collapsed": true,
    "ExecuteTime": {
     "end_time": "2025-02-04T08:52:31.565184Z",
     "start_time": "2025-02-04T08:52:31.560937Z"
    }
   },
   "source": [
    "import pandas as pd\n",
    "from pathlib import Path\n",
    "\n",
    "from src.utils import load_yaml\n",
    "from src.database import get_rows\n",
    "\n",
    "base_path = Path(\"../\")\n",
    "config = load_yaml(base_path / \"config.yaml\")\n",
    "data_path = base_path / config[\"data_dir\"]\n",
    "db_path = data_path / config[\"results_file\"]"
   ],
   "outputs": [],
   "execution_count": 20
  },
  {
   "metadata": {
    "ExecuteTime": {
     "end_time": "2025-02-04T08:50:45.364135Z",
     "start_time": "2025-02-04T08:50:45.338048Z"
    }
   },
   "cell_type": "code",
   "source": [
    "df_covid_results_gpt_4o = get_rows(\n",
    "    db_path=db_path,\n",
    "    file_name=\"covid.csv\",\n",
    "    model=\"gpt-4o\"\n",
    ")\n",
    "df_covid_results_gpt_4o = pd.DataFrame(df_covid_results_gpt_4o)"
   ],
   "id": "b15af5d54fb6f2e1",
   "outputs": [],
   "execution_count": 14
  },
  {
   "metadata": {
    "ExecuteTime": {
     "end_time": "2025-02-04T08:50:45.392316Z",
     "start_time": "2025-02-04T08:50:45.373439Z"
    }
   },
   "cell_type": "code",
   "source": [
    "df_covid_results_sonnet_35 = get_rows(\n",
    "    db_path=db_path,\n",
    "    file_name=\"covid.csv\",\n",
    "    model=\"anthropic.claude-3-5-sonnet-20240620-v1:0\"\n",
    ")\n",
    "df_covid_results_sonnet_35 = pd.DataFrame(df_covid_results_sonnet_35)"
   ],
   "id": "6317b28843ad9ab2",
   "outputs": [],
   "execution_count": 15
  },
  {
   "metadata": {
    "ExecuteTime": {
     "end_time": "2025-02-04T08:50:45.420491Z",
     "start_time": "2025-02-04T08:50:45.401703Z"
    }
   },
   "cell_type": "code",
   "source": [
    "df_touche_results_gpt_4o = get_rows(\n",
    "    db_path=db_path,\n",
    "    file_name=\"touche.csv\",\n",
    "    model=\"gpt-4o\"\n",
    ")\n",
    "df_touche_results_gpt_4o = pd.DataFrame(df_touche_results_gpt_4o)"
   ],
   "id": "87e599d49ab44fc8",
   "outputs": [],
   "execution_count": 16
  },
  {
   "metadata": {
    "ExecuteTime": {
     "end_time": "2025-02-04T08:50:45.446815Z",
     "start_time": "2025-02-04T08:50:45.429931Z"
    }
   },
   "cell_type": "code",
   "source": [
    "df_touche_results_sonnet_35 = get_rows(\n",
    "    db_path=db_path,\n",
    "    file_name=\"touche.csv\",\n",
    "    model=\"anthropic.claude-3-5-sonnet-20240620-v1:0\"\n",
    ")\n",
    "df_touche_results_sonnet_35 = pd.DataFrame(df_touche_results_sonnet_35)"
   ],
   "id": "6a241055442fbaf",
   "outputs": [],
   "execution_count": 17
  },
  {
   "metadata": {},
   "cell_type": "markdown",
   "source": "### Export",
   "id": "b8ee7f9fdc2f01af"
  },
  {
   "metadata": {
    "ExecuteTime": {
     "end_time": "2025-02-04T08:52:33.660725Z",
     "start_time": "2025-02-04T08:52:33.465202Z"
    }
   },
   "cell_type": "code",
   "source": [
    "df_covid_results_gpt_4o.to_csv(data_path / \"covid_gpt_4o.csv\")\n",
    "df_covid_results_sonnet_35.to_csv(data_path / \"covid_sonnet_35.csv\")\n",
    "df_touche_results_gpt_4o.to_csv(data_path / \"touche_gpt_4o.csv\")\n",
    "df_touche_results_sonnet_35.to_csv(data_path / \"touche_sonnet_35.csv\")"
   ],
   "id": "102e55074802f197",
   "outputs": [],
   "execution_count": 21
  }
 ],
 "metadata": {
  "kernelspec": {
   "display_name": "Python 3",
   "language": "python",
   "name": "python3"
  },
  "language_info": {
   "codemirror_mode": {
    "name": "ipython",
    "version": 2
   },
   "file_extension": ".py",
   "mimetype": "text/x-python",
   "name": "python",
   "nbconvert_exporter": "python",
   "pygments_lexer": "ipython2",
   "version": "2.7.6"
  }
 },
 "nbformat": 4,
 "nbformat_minor": 5
}
