{
 "cells": [
  {
   "cell_type": "code",
   "id": "initial_id",
   "metadata": {
    "collapsed": true,
    "ExecuteTime": {
     "end_time": "2025-02-05T20:57:17.313268Z",
     "start_time": "2025-02-05T20:57:14.995790Z"
    }
   },
   "source": [
    "import pandas as pd\n",
    "from pathlib import Path\n",
    "\n",
    "data_path = Path(\"../data\")\n",
    "\n",
    "df_covid = pd.read_csv(data_path / \"covid.csv\")\n",
    "\n",
    "# Combine \"Highly Relevant\" with \"Relevant\"\n",
    "df_covid['relevance_label'] = df_covid['relevance_label'].replace('Highly Relevant', 'Relevant')\n",
    "\n",
    "df_covid.to_csv(data_path / \"covid_2_class.csv\", index=False)"
   ],
   "outputs": [],
   "execution_count": 1
  },
  {
   "metadata": {
    "ExecuteTime": {
     "end_time": "2025-02-05T21:32:24.699851Z",
     "start_time": "2025-02-05T21:32:24.523453Z"
    }
   },
   "cell_type": "code",
   "source": [
    "import pandas as pd\n",
    "from pathlib import Path\n",
    "\n",
    "data_path = Path(\"../data\")\n",
    "\n",
    "df_touche = pd.read_csv(data_path / \"touche.csv\")\n",
    "\n",
    "# Combine \"Highly Relevant\" with \"Relevant\"\n",
    "df_touche['relevance_label'] = df_touche['relevance_label'].replace('Highly Relevant', 'Relevant')\n",
    "\n",
    "df_touche.to_csv(data_path / \"touche_2_class.csv\", index=False)"
   ],
   "id": "fb8896d5d0844b7a",
   "outputs": [],
   "execution_count": 7
  }
 ],
 "metadata": {
  "kernelspec": {
   "display_name": "Python 3",
   "language": "python",
   "name": "python3"
  },
  "language_info": {
   "codemirror_mode": {
    "name": "ipython",
    "version": 2
   },
   "file_extension": ".py",
   "mimetype": "text/x-python",
   "name": "python",
   "nbconvert_exporter": "python",
   "pygments_lexer": "ipython2",
   "version": "2.7.6"
  }
 },
 "nbformat": 4,
 "nbformat_minor": 5
}
